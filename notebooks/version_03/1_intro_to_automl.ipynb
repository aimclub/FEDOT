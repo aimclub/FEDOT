{
 "cells": [
  {
   "cell_type": "markdown",
   "metadata": {
    "pycharm": {
     "name": "#%% md\n"
    }
   },
   "source": [
    "# AutoML solution vs single model\n",
    "#### FEDOT version = 0.3\n",
    "\n",
    "Below is an example of running an Auto ML solution for a classification problem.\n",
    "## Description of the task and dataset"
   ]
  },
  {
   "cell_type": "code",
   "execution_count": 1,
   "metadata": {
    "pycharm": {
     "is_executing": false
    }
   },
   "outputs": [
    {
     "data": {
      "text/html": [
       "<div>\n",
       "<style scoped>\n",
       "    .dataframe tbody tr th:only-of-type {\n",
       "        vertical-align: middle;\n",
       "    }\n",
       "\n",
       "    .dataframe tbody tr th {\n",
       "        vertical-align: top;\n",
       "    }\n",
       "\n",
       "    .dataframe thead th {\n",
       "        text-align: right;\n",
       "    }\n",
       "</style>\n",
       "<table border=\"1\" class=\"dataframe\">\n",
       "  <thead>\n",
       "    <tr style=\"text-align: right;\">\n",
       "      <th></th>\n",
       "      <th>ID</th>\n",
       "      <th>RevolvingUtilizationOfUnsecuredLines</th>\n",
       "      <th>age</th>\n",
       "      <th>NumberOfTime30.59DaysPastDueNotWorse</th>\n",
       "      <th>DebtRatio</th>\n",
       "      <th>MonthlyIncome</th>\n",
       "      <th>NumberOfOpenCreditLinesAndLoans</th>\n",
       "      <th>NumberOfTimes90DaysLate</th>\n",
       "      <th>NumberRealEstateLoansOrLines</th>\n",
       "      <th>NumberOfTime60.89DaysPastDueNotWorse</th>\n",
       "      <th>NumberOfDependents</th>\n",
       "      <th>target</th>\n",
       "    </tr>\n",
       "  </thead>\n",
       "  <tbody>\n",
       "    <tr>\n",
       "      <th>0</th>\n",
       "      <td>0</td>\n",
       "      <td>0.766127</td>\n",
       "      <td>45</td>\n",
       "      <td>2</td>\n",
       "      <td>0.802982</td>\n",
       "      <td>9120.0</td>\n",
       "      <td>13</td>\n",
       "      <td>0</td>\n",
       "      <td>6</td>\n",
       "      <td>0</td>\n",
       "      <td>2.0</td>\n",
       "      <td>1</td>\n",
       "    </tr>\n",
       "    <tr>\n",
       "      <th>1</th>\n",
       "      <td>1</td>\n",
       "      <td>0.957151</td>\n",
       "      <td>40</td>\n",
       "      <td>0</td>\n",
       "      <td>0.121876</td>\n",
       "      <td>2600.0</td>\n",
       "      <td>4</td>\n",
       "      <td>0</td>\n",
       "      <td>0</td>\n",
       "      <td>0</td>\n",
       "      <td>1.0</td>\n",
       "      <td>0</td>\n",
       "    </tr>\n",
       "    <tr>\n",
       "      <th>2</th>\n",
       "      <td>2</td>\n",
       "      <td>0.658180</td>\n",
       "      <td>38</td>\n",
       "      <td>1</td>\n",
       "      <td>0.085113</td>\n",
       "      <td>3042.0</td>\n",
       "      <td>2</td>\n",
       "      <td>1</td>\n",
       "      <td>0</td>\n",
       "      <td>0</td>\n",
       "      <td>0.0</td>\n",
       "      <td>0</td>\n",
       "    </tr>\n",
       "    <tr>\n",
       "      <th>3</th>\n",
       "      <td>3</td>\n",
       "      <td>0.233810</td>\n",
       "      <td>30</td>\n",
       "      <td>0</td>\n",
       "      <td>0.036050</td>\n",
       "      <td>3300.0</td>\n",
       "      <td>5</td>\n",
       "      <td>0</td>\n",
       "      <td>0</td>\n",
       "      <td>0</td>\n",
       "      <td>0.0</td>\n",
       "      <td>0</td>\n",
       "    </tr>\n",
       "    <tr>\n",
       "      <th>4</th>\n",
       "      <td>4</td>\n",
       "      <td>0.907239</td>\n",
       "      <td>49</td>\n",
       "      <td>1</td>\n",
       "      <td>0.024926</td>\n",
       "      <td>63588.0</td>\n",
       "      <td>7</td>\n",
       "      <td>0</td>\n",
       "      <td>1</td>\n",
       "      <td>0</td>\n",
       "      <td>0.0</td>\n",
       "      <td>0</td>\n",
       "    </tr>\n",
       "  </tbody>\n",
       "</table>\n",
       "</div>"
      ],
      "text/plain": [
       "   ID  RevolvingUtilizationOfUnsecuredLines  age  \\\n",
       "0   0                              0.766127   45   \n",
       "1   1                              0.957151   40   \n",
       "2   2                              0.658180   38   \n",
       "3   3                              0.233810   30   \n",
       "4   4                              0.907239   49   \n",
       "\n",
       "   NumberOfTime30.59DaysPastDueNotWorse  DebtRatio  MonthlyIncome  \\\n",
       "0                                     2   0.802982         9120.0   \n",
       "1                                     0   0.121876         2600.0   \n",
       "2                                     1   0.085113         3042.0   \n",
       "3                                     0   0.036050         3300.0   \n",
       "4                                     1   0.024926        63588.0   \n",
       "\n",
       "   NumberOfOpenCreditLinesAndLoans  NumberOfTimes90DaysLate  \\\n",
       "0                               13                        0   \n",
       "1                                4                        0   \n",
       "2                                2                        1   \n",
       "3                                5                        0   \n",
       "4                                7                        0   \n",
       "\n",
       "   NumberRealEstateLoansOrLines  NumberOfTime60.89DaysPastDueNotWorse  \\\n",
       "0                             6                                     0   \n",
       "1                             0                                     0   \n",
       "2                             0                                     0   \n",
       "3                             0                                     0   \n",
       "4                             1                                     0   \n",
       "\n",
       "   NumberOfDependents  target  \n",
       "0                 2.0       1  \n",
       "1                 1.0       0  \n",
       "2                 0.0       0  \n",
       "3                 0.0       0  \n",
       "4                 0.0       0  "
      ]
     },
     "execution_count": 1,
     "metadata": {},
     "output_type": "execute_result"
    }
   ],
   "source": [
    "import pandas as pd\n",
    "import warnings\n",
    "warnings.filterwarnings(\"ignore\")\n",
    "\n",
    "# Input data from csv files \n",
    "train_data_path = '../data/scoring_train.csv'\n",
    "test_data_path = '../data/scoring_test.csv'\n",
    "df = pd.read_csv(train_data_path)\n",
    "df.head(5)"
   ]
  },
  {
   "cell_type": "markdown",
   "metadata": {},
   "source": [
    "## Baseline model\n",
    "\n",
    "Let's use the api features to solve the classification problem. First, we create a chain from a single model \"xgboost\". \n",
    "To do this, we will substitute the appropriate name in the predefined_model field."
   ]
  },
  {
   "cell_type": "code",
   "execution_count": 2,
   "metadata": {
    "pycharm": {
     "is_executing": false,
     "name": "#%%\n"
    }
   },
   "outputs": [
    {
     "name": "stdout",
     "output_type": "stream",
     "text": [
      "Fit chain from scratch\n",
      "{'roc_auc': 0.823, 'f1': 0.23837209302325582}\n"
     ]
    }
   ],
   "source": [
    "from fedot.api.main import Fedot\n",
    "\n",
    "#task selection, initialisation of the framework\n",
    "baseline_model = Fedot(problem='classification')\n",
    "\n",
    "#fit model without optimisation - single XGBoost node is used \n",
    "baseline_model.fit(features=train_data_path, target='target', predefined_model='xgboost')\n",
    "\n",
    "#evaluate the prediction with test data\n",
    "baseline_model.predict_proba(features=test_data_path)\n",
    "\n",
    "#evaluate quality metric for the test sample\n",
    "baseline_metrics = baseline_model.get_metrics()\n",
    "print(baseline_metrics)"
   ]
  },
  {
   "cell_type": "markdown",
   "metadata": {
    "pycharm": {
     "name": "#%% md\n"
    }
   },
   "source": [
    "## FEDOT AutoML for classification\n",
    "\n",
    "We can identify the model using an evolutionary algorithm built into the core of the FEDOT framework."
   ]
  },
  {
   "cell_type": "code",
   "execution_count": 3,
   "metadata": {
    "pycharm": {
     "is_executing": false,
     "name": "#%%\n"
    }
   },
   "outputs": [],
   "source": [
    "# new instance to be used as AutoML tool\n",
    "auto_model = Fedot(problem='classification', seed = 42, verbose_level=4)"
   ]
  },
  {
   "cell_type": "code",
   "execution_count": 4,
   "metadata": {
    "pycharm": {
     "is_executing": true,
     "name": "#%%\n"
    }
   },
   "outputs": [
    {
     "name": "stdout",
     "output_type": "stream",
     "text": [
      "Composition started. Parameters tuning: True. Set of candidate models: ['logit', 'lda', 'qda', 'dt', 'rf', 'knn', 'xgboost', 'bernb', 'scaling', 'normalization', 'simple_imputation', 'pca', 'poly_features', 'one_hot_encoding', 'rfe_lin_class', 'rfe_non_lin_class']. Composing time limit: 2 min\n",
      "Model composition started\n",
      "pop size: 21, num of new inds: 13\n",
      "Chain (/n_scaling_default_params;)/n_xgboost_default_params fit started\n",
      "Chain (/n_scaling_default_params;)/n_xgboost_default_params with metrics: [-0.806]\n",
      "Chain (/n_scaling_default_params;)/n_xgboost_default_params with metrics: [-0.806]\n",
      "Chain (/n_scaling_default_params;)/n_xgboost_default_params with metrics: [-0.806]\n",
      "Chain (/n_scaling_default_params;)/n_xgboost_default_params with metrics: [-0.806]\n",
      "Chain (/n_scaling_default_params;)/n_xgboost_default_params with metrics: [-0.806]\n",
      "Chain (/n_scaling_default_params;)/n_xgboost_default_params with metrics: [-0.806]\n",
      "Chain (/n_scaling_default_params;)/n_xgboost_default_params with metrics: [-0.806]\n",
      "Chain (/n_scaling_default_params;)/n_xgboost_default_params with metrics: [-0.806]\n",
      "Chain (/n_scaling_default_params;)/n_xgboost_default_params with metrics: [-0.806]\n",
      "Chain (/n_scaling_default_params;)/n_xgboost_default_params with metrics: [-0.806]\n",
      "Chain (/n_scaling_default_params;)/n_xgboost_default_params with metrics: [-0.806]\n",
      "Chain (/n_scaling_default_params;)/n_xgboost_default_params with metrics: [-0.806]\n",
      "Chain (/n_scaling_default_params;)/n_xgboost_default_params with metrics: [-0.806]\n",
      "Chain (/n_scaling_default_params;)/n_xgboost_default_params with metrics: [-0.806]\n",
      "Chain (/n_scaling_default_params;)/n_xgboost_default_params with metrics: [-0.806]\n",
      "Chain (/n_scaling_default_params;)/n_xgboost_default_params with metrics: [-0.806]\n",
      "Chain (/n_scaling_default_params;)/n_xgboost_default_params with metrics: [-0.806]\n",
      "Chain (/n_scaling_default_params;)/n_xgboost_default_params with metrics: [-0.806]\n",
      "Chain (/n_scaling_default_params;)/n_xgboost_default_params with metrics: [-0.806]\n",
      "Chain (/n_scaling_default_params;)/n_xgboost_default_params with metrics: [-0.806]\n",
      "Best metric is -0.806\n",
      "Generation num: 0\n",
      "max_depth: 2, no improvements: 0\n",
      "Chain (/n_knn_default_params;)/n_xgboost_default_params fit started\n",
      "Chain (/n_knn_default_params;)/n_xgboost_default_params with metrics: [-0.54]\n",
      "Chain (/n_scaling_default_params;)/n_xgboost_default_params with metrics: [-0.806]\n",
      "Chain (/n_one_hot_encoding_default_params;;/n_qda_default_params;)/n_rf_default_params fit started\n",
      "Chain (/n_one_hot_encoding_default_params;;/n_qda_default_params;)/n_rf_default_params with metrics: [-0.83]\n",
      "Chain (/n_one_hot_encoding_default_params;)/n_xgboost_default_params fit started\n",
      "Chain (/n_one_hot_encoding_default_params;)/n_xgboost_default_params with metrics: [-0.805]\n",
      "Chain (/n_scaling_default_params;)/n_xgboost_default_params with metrics: [-0.806]\n",
      "Chain (/n_xgboost_default_params;)/n_xgboost_default_params fit started\n",
      "Chain (/n_xgboost_default_params;)/n_xgboost_default_params with metrics: [-0.783]\n",
      "Chain (/n_scaling_default_params;)/n_bernb_default_params fit started\n",
      "Chain (/n_scaling_default_params;)/n_bernb_default_params with metrics: [-0.779]\n",
      "Chain (/n_scaling_default_params;)/n_xgboost_default_params with metrics: [-0.806]\n",
      "Chain (/n_scaling_default_params;)/n_xgboost_default_params with metrics: [-0.806]\n",
      "Chain (/n_xgboost_default_params;)/n_xgboost_default_params with metrics: [-0.783]\n",
      "Chain (/n_scaling_default_params;)/n_xgboost_default_params with metrics: [-0.806]\n",
      "Chain ((/n_bernb_default_params;;/n_normalization_default_params;)/n_qda_default_params;)/n_xgboost_default_params fit started\n",
      "Chain ((/n_bernb_default_params;;/n_normalization_default_params;)/n_qda_default_params;)/n_xgboost_default_params with metrics: [-0.783]\n",
      "Chain ((/n_scaling_default_params;)/n_xgboost_default_params;)/n_xgboost_default_params fit started\n",
      "Chain ((/n_scaling_default_params;)/n_xgboost_default_params;)/n_xgboost_default_params with metrics: [-0.772]\n",
      "Chain (/n_scaling_default_params;)/n_xgboost_{'n_estimators': 100, 'max_depth': 6, 'learning_rate': 0.5421942342941279, 'subsample': 0.6119919649911127, 'min_child_weight': 11, 'nthread': 1} fit started\n",
      "Chain (/n_scaling_default_params;)/n_xgboost_{'n_estimators': 100, 'max_depth': 6, 'learning_rate': 0.5421942342941279, 'subsample': 0.6119919649911127, 'min_child_weight': 11, 'nthread': 1} with metrics: [-0.775]\n",
      "pop size: 20, num of new inds: 13\n",
      "spent time: 0.2 min\n",
      "Best metric is -0.83\n",
      "Generation num: 1\n",
      "max_depth: 2, no improvements: 0\n",
      "Chain (/n_scaling_default_params;)/n_xgboost_default_params with metrics: [-0.806]\n",
      "Chain (/n_dt_default_params;)/n_xgboost_default_params fit started\n",
      "Chain (/n_dt_default_params;)/n_xgboost_default_params with metrics: [-0.602]\n",
      "Chain (/n_one_hot_encoding_default_params;;/n_rf_default_params;;/n_rf_default_params;)/n_lda_default_params fit started\n",
      "Chain (/n_one_hot_encoding_default_params;;/n_rf_default_params;;/n_rf_default_params;)/n_lda_default_params with metrics: [-0.805]\n",
      "Chain (/n_knn_default_params;;/n_one_hot_encoding_default_params;;/n_rfe_lin_class_default_params;)/n_rf_default_params fit started\n",
      "Chain (/n_knn_default_params;;/n_one_hot_encoding_default_params;;/n_rfe_lin_class_default_params;)/n_rf_default_params with metrics: [-0.674]\n",
      "Chain ((/n_knn_default_params;;/n_normalization_default_params;;/n_rfe_lin_class_default_params;)/n_pca_default_params;;(/n_pca_default_params;;/n_qda_default_params;)/n_scaling_default_params;)/n_dt_default_params fit started\n",
      "Chain ((/n_knn_default_params;;/n_normalization_default_params;;/n_rfe_lin_class_default_params;)/n_pca_default_params;;(/n_pca_default_params;;/n_qda_default_params;)/n_scaling_default_params;)/n_dt_default_params with metrics: [-0.562]\n",
      "Chain (/n_normalization_default_params;;/n_poly_features_default_params;;/n_rf_default_params;)/n_bernb_default_params fit started\n",
      "Chain (/n_normalization_default_params;;/n_poly_features_default_params;;/n_rf_default_params;)/n_bernb_default_params with metrics: [-0.807]\n",
      "Chain (/n_scaling_default_params;)/n_xgboost_default_params with metrics: [-0.806]\n",
      "Chain (/n_scaling_default_params;)/n_xgboost_default_params with metrics: [-0.806]\n",
      "Chain (/n_knn_default_params;;/n_one_hot_encoding_default_params;)/n_rf_default_params fit started\n",
      "Chain (/n_knn_default_params;;/n_one_hot_encoding_default_params;)/n_rf_default_params with metrics: [-0.673]\n",
      "Chain (/n_lda_default_params;;/n_qda_default_params;)/n_rf_default_params fit started\n",
      "Chain (/n_lda_default_params;;/n_qda_default_params;)/n_rf_default_params with metrics: [-0.756]\n",
      "Chain (/n_rf_default_params;)/n_xgboost_default_params fit started\n",
      "Chain (/n_rf_default_params;)/n_xgboost_default_params with metrics: [-0.596]\n",
      "Chain (/n_rfe_lin_class_default_params;)/n_xgboost_default_params fit started\n",
      "Chain (/n_rfe_lin_class_default_params;)/n_xgboost_default_params with metrics: [-0.779]\n",
      "Chain (/n_scaling_default_params;)/n_xgboost_default_params with metrics: [-0.806]\n",
      "Chain ((/n_qda_default_params;)/n_xgboost_default_params;)/n_xgboost_default_params fit started\n",
      "Chain ((/n_qda_default_params;)/n_xgboost_default_params;)/n_xgboost_default_params with metrics: [-0.764]\n",
      "pop size: 34, num of new inds: 21\n",
      "spent time: 0.5 min\n",
      "Best metric is -0.83\n",
      "Generation num: 2\n",
      "max_depth: 2, no improvements: 1\n",
      "Chain (/n_one_hot_encoding_default_params;;/n_qda_default_params;)/n_rf_default_params with metrics: [-0.83]\n",
      "Chain (/n_scaling_default_params;)/n_xgboost_default_params with metrics: [-0.806]\n",
      "Chain (/n_scaling_default_params;)/n_xgboost_default_params with metrics: [-0.806]\n",
      "Chain ((/n_dt_default_params;;/n_knn_default_params;;/n_xgboost_default_params;)/n_xgboost_default_params;)/n_xgboost_default_params fit started\n",
      "Chain ((/n_dt_default_params;;/n_knn_default_params;;/n_xgboost_default_params;)/n_xgboost_default_params;)/n_xgboost_default_params with metrics: [-0.602]\n",
      "Chain ((/n_normalization_default_params;;/n_poly_features_default_params;;/n_rf_default_params;)/n_bernb_default_params;)/n_xgboost_default_params fit started\n",
      "Chain ((/n_normalization_default_params;;/n_poly_features_default_params;;/n_rf_default_params;)/n_bernb_default_params;)/n_xgboost_default_params with metrics: [-0.799]\n",
      "Chain (/n_normalization_default_params;;/n_poly_features_default_params;;/n_rf_default_params;)/n_bernb_default_params with metrics: [-0.809]\n",
      "Chain (/n_scaling_default_params;)/n_xgboost_default_params with metrics: [-0.806]\n",
      "Chain (/n_scaling_default_params;)/n_xgboost_default_params with metrics: [-0.806]\n",
      "Chain (/n_scaling_default_params;)/n_xgboost_default_params with metrics: [-0.806]\n",
      "Chain (/n_logit_default_params;)/n_xgboost_default_params fit started\n",
      "Chain (/n_logit_default_params;)/n_xgboost_default_params with metrics: [-0.644]\n",
      "Chain ((/n_bernb_default_params;;/n_rfe_lin_class_default_params;;/n_rfe_lin_class_default_params;)/n_qda_default_params;)/n_xgboost_default_params fit started\n",
      "Chain ((/n_bernb_default_params;;/n_rfe_lin_class_default_params;;/n_rfe_lin_class_default_params;)/n_qda_default_params;)/n_xgboost_default_params with metrics: [-0.765]\n",
      "Chain (/n_one_hot_encoding_default_params;;/n_qda_default_params;)/n_rf_default_params with metrics: [-0.83]\n",
      "Chain (/n_scaling_default_params;)/n_xgboost_default_params with metrics: [-0.806]\n",
      "Chain ((/n_scaling_default_params;)/n_xgboost_default_params;;/n_one_hot_encoding_default_params;)/n_rf_default_params fit started\n",
      "Chain ((/n_scaling_default_params;)/n_xgboost_default_params;;/n_one_hot_encoding_default_params;)/n_rf_default_params with metrics: [-0.749]\n",
      "Chain (/n_scaling_default_params;)/n_xgboost_default_params with metrics: [-0.806]\n",
      "Chain (/n_scaling_default_params;)/n_xgboost_default_params with metrics: [-0.806]\n",
      "Chain ((/n_normalization_default_params;)/n_xgboost_default_params;;/n_qda_default_params;)/n_rf_default_params fit started\n",
      "Chain ((/n_normalization_default_params;)/n_xgboost_default_params;;/n_qda_default_params;)/n_rf_default_params with metrics: [-0.703]\n",
      "Chain (/n_poly_features_default_params;)/n_xgboost_default_params fit started\n",
      "Chain (/n_poly_features_default_params;)/n_xgboost_default_params with metrics: [-0.802]\n",
      "Chain (/n_one_hot_encoding_default_params;;/n_scaling_default_params;)/n_rf_default_params fit started\n",
      "Chain (/n_one_hot_encoding_default_params;;/n_scaling_default_params;)/n_rf_default_params with metrics: [-0.825]\n",
      "Chain (/n_scaling_default_params;)/n_xgboost_default_params with metrics: [-0.806]\n",
      "Chain ((/n_lda_default_params;;/n_logit_default_params;)/n_bernb_default_params;)/n_xgboost_default_params fit started\n",
      "Chain ((/n_lda_default_params;;/n_logit_default_params;)/n_bernb_default_params;)/n_xgboost_default_params with metrics: [-0.5]\n",
      "Chain (/n_simple_imputation_default_params;)/n_xgboost_default_params fit started\n",
      "Chain (/n_simple_imputation_default_params;)/n_xgboost_default_params with metrics: [-0.805]\n",
      "pop size: 55, num of new inds: 34\n",
      "spent time: 1.0 min\n",
      "Best metric is -0.83\n",
      "Result:\n",
      "Best metric is -0.83\n",
      "Composition time: 0.954 min\n",
      "Algorithm was terminated due to processing time limit\n",
      "GP composition finished\n",
      "Hyperparameters tuning started\n",
      "Default loss function was set\n",
      "Start tuning of primary nodes\n",
      "Hyperparameters optimization start\n",
      "Fit chain from scratch\n",
      "  0%|                                                                         | 0/1000 [00:00<?, ?trial/s, best loss=?]Fit chain from scratch\n",
      "  0%|                                            | 1/1000 [00:04<1:11:15,  4.28s/trial, best loss: -0.8281416877169901]Fit chain from scratch\n",
      "  0%|                                              | 2/1000 [00:05<43:01,  2.59s/trial, best loss: -0.8382782553435232]Fit chain from scratch\n",
      "  0%|▏                                             | 3/1000 [00:08<40:57,  2.46s/trial, best loss: -0.8404451014294383]Fit chain from scratch\n",
      "  0%|▏                                           | 4/1000 [00:15<1:13:56,  4.45s/trial, best loss: -0.8404451014294383]Fit chain from scratch\n",
      "  0%|▏                                           | 5/1000 [00:19<1:12:41,  4.38s/trial, best loss: -0.8404451014294383]Fit chain from scratch\n",
      "  1%|▎                                           | 6/1000 [00:27<1:29:51,  5.42s/trial, best loss: -0.8404451014294383]Fit chain from scratch\n",
      "  1%|▎                                           | 7/1000 [00:29<1:15:26,  4.56s/trial, best loss: -0.8404451014294383]Fit chain from scratch\n",
      "  1%|▎                                             | 8/1000 [00:31<57:49,  3.50s/trial, best loss: -0.8423664637263164]Fit chain from scratch\n",
      "  1%|▍                                             | 9/1000 [00:33<50:28,  3.06s/trial, best loss: -0.8423664637263164]Fit chain from scratch\n",
      "  1%|▍                                            | 10/1000 [00:35<48:33,  2.94s/trial, best loss: -0.8423664637263164]Fit chain from scratch\n",
      "  1%|▍                                          | 11/1000 [00:41<1:03:19,  3.84s/trial, best loss: -0.8423664637263164]Fit chain from scratch\n",
      "  1%|▌                                          | 12/1000 [00:45<1:00:34,  3.68s/trial, best loss: -0.8423664637263164]Fit chain from scratch\n",
      "  1%|▌                                            | 13/1000 [00:47<54:30,  3.31s/trial, best loss: -0.8423664637263164]Fit chain from scratch\n",
      "  1%|▋                                            | 14/1000 [00:50<51:24,  3.13s/trial, best loss: -0.8423664637263164]Fit chain from scratch\n",
      "  2%|▋                                          | 15/1000 [00:56<1:06:42,  4.06s/trial, best loss: -0.8423664637263164]Fit chain from scratch\n",
      "  2%|▋                                            | 16/1000 [00:58<55:52,  3.41s/trial, best loss: -0.8423664637263164]Fit chain from scratch\n",
      "  2%|▋                                          | 17/1000 [01:07<1:05:21,  3.99s/trial, best loss: -0.8423664637263164]\n",
      "Fit chain from scratch\n",
      "Hyperparameters optimization finished\n",
      "Return tuned chain due to the fact that obtained metric 0.845 equal or bigger than initial (- 5% deviation) 0.785\n",
      "Tuning was finished\n",
      "Model composition finished\n",
      "Fit chain from scratch\n"
     ]
    }
   ],
   "source": [
    "#run of the AutoML-based model generation\n",
    "pipeline = auto_model.fit(features=train_data_path, target='target')"
   ]
  },
  {
   "cell_type": "code",
   "execution_count": 5,
   "metadata": {
    "pycharm": {
     "is_executing": true,
     "name": "#%%\n"
    }
   },
   "outputs": [
    {
     "name": "stdout",
     "output_type": "stream",
     "text": [
      "{'roc_auc': 0.856, 'f1': 0.07746478873239436}\n"
     ]
    }
   ],
   "source": [
    "prediction = auto_model.predict_proba(features=test_data_path)\n",
    "auto_metrics = auto_model.get_metrics()\n",
    "print(auto_metrics)"
   ]
  },
  {
   "cell_type": "code",
   "execution_count": 6,
   "metadata": {
    "pycharm": {
     "is_executing": true,
     "name": "#%%\n"
    }
   },
   "outputs": [
    {
     "name": "stdout",
     "output_type": "stream",
     "text": [
      "Baseline 0.823\n",
      "AutoML solution 0.856\n"
     ]
    }
   ],
   "source": [
    "#comparison with the manual pipeline\n",
    "\n",
    "print('Baseline', round(baseline_metrics['roc_auc'], 3))\n",
    "print('AutoML solution', round(auto_metrics['roc_auc'], 3))"
   ]
  },
  {
   "cell_type": "markdown",
   "metadata": {},
   "source": [
    "Thus, with just a few lines of code, we were able to launch the FEDOT framework and got a better result*.\n",
    "\n",
    "*Due to the stochastic nature of the algorithm, the metrics for the found solution may differ.\n",
    "\n",
    "If you want to learn more about FEDOT, you can use [this notebook](2_intro_to_fedot.ipynb)."
   ]
  }
 ],
 "metadata": {
  "kernelspec": {
   "display_name": "Python 3",
   "language": "python",
   "name": "python3"
  },
  "language_info": {
   "codemirror_mode": {
    "name": "ipython",
    "version": 3
   },
   "file_extension": ".py",
   "mimetype": "text/x-python",
   "name": "python",
   "nbconvert_exporter": "python",
   "pygments_lexer": "ipython3",
   "version": "3.7.0"
  },
  "pycharm": {
   "stem_cell": {
    "cell_type": "raw",
    "metadata": {
     "collapsed": false
    },
    "source": []
   }
  }
 },
 "nbformat": 4,
 "nbformat_minor": 4
}
