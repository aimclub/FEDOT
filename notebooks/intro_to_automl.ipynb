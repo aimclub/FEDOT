{
 "cells": [
  {
   "cell_type": "markdown",
   "metadata": {
    "pycharm": {
     "name": "#%% md\n"
    }
   },
   "source": [
    "## Description of the task and dataset"
   ]
  },
  {
   "cell_type": "code",
   "execution_count": 1,
   "metadata": {
    "pycharm": {
     "is_executing": false
    }
   },
   "outputs": [
    {
     "data": {
      "text/html": [
       "<div>\n",
       "<style scoped>\n",
       "    .dataframe tbody tr th:only-of-type {\n",
       "        vertical-align: middle;\n",
       "    }\n",
       "\n",
       "    .dataframe tbody tr th {\n",
       "        vertical-align: top;\n",
       "    }\n",
       "\n",
       "    .dataframe thead th {\n",
       "        text-align: right;\n",
       "    }\n",
       "</style>\n",
       "<table border=\"1\" class=\"dataframe\">\n",
       "  <thead>\n",
       "    <tr style=\"text-align: right;\">\n",
       "      <th></th>\n",
       "      <th>ID</th>\n",
       "      <th>RevolvingUtilizationOfUnsecuredLines</th>\n",
       "      <th>age</th>\n",
       "      <th>NumberOfTime30.59DaysPastDueNotWorse</th>\n",
       "      <th>DebtRatio</th>\n",
       "      <th>MonthlyIncome</th>\n",
       "      <th>NumberOfOpenCreditLinesAndLoans</th>\n",
       "      <th>NumberOfTimes90DaysLate</th>\n",
       "      <th>NumberRealEstateLoansOrLines</th>\n",
       "      <th>NumberOfTime60.89DaysPastDueNotWorse</th>\n",
       "      <th>NumberOfDependents</th>\n",
       "      <th>target</th>\n",
       "    </tr>\n",
       "  </thead>\n",
       "  <tbody>\n",
       "    <tr>\n",
       "      <th>0</th>\n",
       "      <td>0</td>\n",
       "      <td>0.766127</td>\n",
       "      <td>45</td>\n",
       "      <td>2</td>\n",
       "      <td>0.802982</td>\n",
       "      <td>9120.0</td>\n",
       "      <td>13</td>\n",
       "      <td>0</td>\n",
       "      <td>6</td>\n",
       "      <td>0</td>\n",
       "      <td>2.0</td>\n",
       "      <td>1</td>\n",
       "    </tr>\n",
       "    <tr>\n",
       "      <th>1</th>\n",
       "      <td>1</td>\n",
       "      <td>0.957151</td>\n",
       "      <td>40</td>\n",
       "      <td>0</td>\n",
       "      <td>0.121876</td>\n",
       "      <td>2600.0</td>\n",
       "      <td>4</td>\n",
       "      <td>0</td>\n",
       "      <td>0</td>\n",
       "      <td>0</td>\n",
       "      <td>1.0</td>\n",
       "      <td>0</td>\n",
       "    </tr>\n",
       "    <tr>\n",
       "      <th>2</th>\n",
       "      <td>2</td>\n",
       "      <td>0.658180</td>\n",
       "      <td>38</td>\n",
       "      <td>1</td>\n",
       "      <td>0.085113</td>\n",
       "      <td>3042.0</td>\n",
       "      <td>2</td>\n",
       "      <td>1</td>\n",
       "      <td>0</td>\n",
       "      <td>0</td>\n",
       "      <td>0.0</td>\n",
       "      <td>0</td>\n",
       "    </tr>\n",
       "    <tr>\n",
       "      <th>3</th>\n",
       "      <td>3</td>\n",
       "      <td>0.233810</td>\n",
       "      <td>30</td>\n",
       "      <td>0</td>\n",
       "      <td>0.036050</td>\n",
       "      <td>3300.0</td>\n",
       "      <td>5</td>\n",
       "      <td>0</td>\n",
       "      <td>0</td>\n",
       "      <td>0</td>\n",
       "      <td>0.0</td>\n",
       "      <td>0</td>\n",
       "    </tr>\n",
       "    <tr>\n",
       "      <th>4</th>\n",
       "      <td>4</td>\n",
       "      <td>0.907239</td>\n",
       "      <td>49</td>\n",
       "      <td>1</td>\n",
       "      <td>0.024926</td>\n",
       "      <td>63588.0</td>\n",
       "      <td>7</td>\n",
       "      <td>0</td>\n",
       "      <td>1</td>\n",
       "      <td>0</td>\n",
       "      <td>0.0</td>\n",
       "      <td>0</td>\n",
       "    </tr>\n",
       "    <tr>\n",
       "      <th>5</th>\n",
       "      <td>5</td>\n",
       "      <td>0.213179</td>\n",
       "      <td>74</td>\n",
       "      <td>0</td>\n",
       "      <td>0.375607</td>\n",
       "      <td>3500.0</td>\n",
       "      <td>3</td>\n",
       "      <td>0</td>\n",
       "      <td>1</td>\n",
       "      <td>0</td>\n",
       "      <td>1.0</td>\n",
       "      <td>0</td>\n",
       "    </tr>\n",
       "    <tr>\n",
       "      <th>6</th>\n",
       "      <td>6</td>\n",
       "      <td>0.305682</td>\n",
       "      <td>57</td>\n",
       "      <td>0</td>\n",
       "      <td>5710.000000</td>\n",
       "      <td>NaN</td>\n",
       "      <td>8</td>\n",
       "      <td>0</td>\n",
       "      <td>3</td>\n",
       "      <td>0</td>\n",
       "      <td>0.0</td>\n",
       "      <td>0</td>\n",
       "    </tr>\n",
       "    <tr>\n",
       "      <th>7</th>\n",
       "      <td>7</td>\n",
       "      <td>0.754464</td>\n",
       "      <td>39</td>\n",
       "      <td>0</td>\n",
       "      <td>0.209940</td>\n",
       "      <td>3500.0</td>\n",
       "      <td>8</td>\n",
       "      <td>0</td>\n",
       "      <td>0</td>\n",
       "      <td>0</td>\n",
       "      <td>0.0</td>\n",
       "      <td>0</td>\n",
       "    </tr>\n",
       "    <tr>\n",
       "      <th>8</th>\n",
       "      <td>8</td>\n",
       "      <td>0.116951</td>\n",
       "      <td>27</td>\n",
       "      <td>0</td>\n",
       "      <td>46.000000</td>\n",
       "      <td>NaN</td>\n",
       "      <td>2</td>\n",
       "      <td>0</td>\n",
       "      <td>0</td>\n",
       "      <td>0</td>\n",
       "      <td>NaN</td>\n",
       "      <td>0</td>\n",
       "    </tr>\n",
       "    <tr>\n",
       "      <th>9</th>\n",
       "      <td>9</td>\n",
       "      <td>0.189169</td>\n",
       "      <td>57</td>\n",
       "      <td>0</td>\n",
       "      <td>0.606291</td>\n",
       "      <td>23684.0</td>\n",
       "      <td>9</td>\n",
       "      <td>0</td>\n",
       "      <td>4</td>\n",
       "      <td>0</td>\n",
       "      <td>2.0</td>\n",
       "      <td>0</td>\n",
       "    </tr>\n",
       "  </tbody>\n",
       "</table>\n",
       "</div>"
      ],
      "text/plain": [
       "   ID  RevolvingUtilizationOfUnsecuredLines  age  \\\n",
       "0   0                              0.766127   45   \n",
       "1   1                              0.957151   40   \n",
       "2   2                              0.658180   38   \n",
       "3   3                              0.233810   30   \n",
       "4   4                              0.907239   49   \n",
       "5   5                              0.213179   74   \n",
       "6   6                              0.305682   57   \n",
       "7   7                              0.754464   39   \n",
       "8   8                              0.116951   27   \n",
       "9   9                              0.189169   57   \n",
       "\n",
       "   NumberOfTime30.59DaysPastDueNotWorse    DebtRatio  MonthlyIncome  \\\n",
       "0                                     2     0.802982         9120.0   \n",
       "1                                     0     0.121876         2600.0   \n",
       "2                                     1     0.085113         3042.0   \n",
       "3                                     0     0.036050         3300.0   \n",
       "4                                     1     0.024926        63588.0   \n",
       "5                                     0     0.375607         3500.0   \n",
       "6                                     0  5710.000000            NaN   \n",
       "7                                     0     0.209940         3500.0   \n",
       "8                                     0    46.000000            NaN   \n",
       "9                                     0     0.606291        23684.0   \n",
       "\n",
       "   NumberOfOpenCreditLinesAndLoans  NumberOfTimes90DaysLate  \\\n",
       "0                               13                        0   \n",
       "1                                4                        0   \n",
       "2                                2                        1   \n",
       "3                                5                        0   \n",
       "4                                7                        0   \n",
       "5                                3                        0   \n",
       "6                                8                        0   \n",
       "7                                8                        0   \n",
       "8                                2                        0   \n",
       "9                                9                        0   \n",
       "\n",
       "   NumberRealEstateLoansOrLines  NumberOfTime60.89DaysPastDueNotWorse  \\\n",
       "0                             6                                     0   \n",
       "1                             0                                     0   \n",
       "2                             0                                     0   \n",
       "3                             0                                     0   \n",
       "4                             1                                     0   \n",
       "5                             1                                     0   \n",
       "6                             3                                     0   \n",
       "7                             0                                     0   \n",
       "8                             0                                     0   \n",
       "9                             4                                     0   \n",
       "\n",
       "   NumberOfDependents  target  \n",
       "0                 2.0       1  \n",
       "1                 1.0       0  \n",
       "2                 0.0       0  \n",
       "3                 0.0       0  \n",
       "4                 0.0       0  \n",
       "5                 1.0       0  \n",
       "6                 0.0       0  \n",
       "7                 0.0       0  \n",
       "8                 NaN       0  \n",
       "9                 2.0       0  "
      ]
     },
     "execution_count": 1,
     "metadata": {},
     "output_type": "execute_result"
    }
   ],
   "source": [
    "import pandas as pd\n",
    "import warnings\n",
    "warnings.filterwarnings(\"ignore\")\n",
    "\n",
    "#input data initialization\n",
    "train_data_path = '../cases/data/scoring/scoring_train.csv'\n",
    "test_data_path = '../cases/data/scoring/scoring_test.csv'\n",
    "df = pd.read_csv(train_data_path)\n",
    "df.head(10)"
   ]
  },
  {
   "cell_type": "code",
   "execution_count": 2,
   "metadata": {
    "pycharm": {
     "is_executing": false,
     "name": "#%%\n"
    }
   },
   "outputs": [
    {
     "name": "stdout",
     "output_type": "stream",
     "text": [
      "Fit chain from scratch\n",
      "{'roc_auc': 0.823, 'f1': 0.23837209302325582}\n"
     ]
    }
   ],
   "source": [
    "## Baseline model\n",
    "\n",
    "from fedot.api.main import Fedot\n",
    "\n",
    "#task selection, initialisation of the framework\n",
    "baseline_model = Fedot(problem='classification')\n",
    "\n",
    "#fit model without optimisation - single XGBoost node is used \n",
    "baseline_model.fit(features=train_data_path, target='target', predefined_model='xgboost')\n",
    "\n",
    "#evaluate the prediction with test data\n",
    "baseline_model.predict_proba(features=test_data_path)\n",
    "\n",
    "#evaluate quality metric for the test sample\n",
    "baseline_metrics = baseline_model.get_metrics()\n",
    "print(baseline_metrics)"
   ]
  },
  {
   "cell_type": "markdown",
   "metadata": {
    "pycharm": {
     "name": "#%% md\n"
    }
   },
   "source": [
    "## FEDOT AutoML for classification"
   ]
  },
  {
   "cell_type": "code",
   "execution_count": 3,
   "metadata": {
    "pycharm": {
     "is_executing": false,
     "name": "#%%\n"
    }
   },
   "outputs": [],
   "source": [
    "# new instance to be used as AutoML tool\n",
    "auto_model = Fedot(problem='classification', seed = 42, verbose_level=4)"
   ]
  },
  {
   "cell_type": "code",
   "execution_count": 4,
   "metadata": {
    "pycharm": {
     "is_executing": true,
     "name": "#%%\n"
    }
   },
   "outputs": [
    {
     "name": "stdout",
     "output_type": "stream",
     "text": [
      "Composition started. Parameters tuning: True. Set of candidate models: ['logit', 'lda', 'qda', 'dt', 'rf', 'knn', 'xgboost', 'bernb', 'scaling', 'normalization', 'simple_imputation', 'pca', 'kernel_pca', 'poly_features', 'one_hot_encoding', 'rfe_lin_class', 'rfe_non_lin_class']. Composing time limit: 0:02:00\n",
      "Model composition started\n",
      "Chain (/n_scaling_default_params;)/n_xgboost_default_params with metrics: [-0.806]\n",
      "Chain (/n_scaling_default_params;)/n_xgboost_default_params with metrics: [-0.806]\n",
      "Chain (/n_scaling_default_params;)/n_xgboost_default_params with metrics: [-0.806]\n",
      "Chain (/n_scaling_default_params;)/n_xgboost_default_params with metrics: [-0.806]\n",
      "Chain (/n_scaling_default_params;)/n_xgboost_default_params with metrics: [-0.806]\n",
      "Chain (/n_scaling_default_params;)/n_xgboost_default_params with metrics: [-0.806]\n",
      "Chain (/n_scaling_default_params;)/n_xgboost_default_params with metrics: [-0.806]\n",
      "Chain (/n_scaling_default_params;)/n_xgboost_default_params with metrics: [-0.806]\n",
      "Chain (/n_scaling_default_params;)/n_xgboost_default_params with metrics: [-0.806]\n",
      "Chain (/n_scaling_default_params;)/n_xgboost_default_params with metrics: [-0.806]\n",
      "Chain (/n_scaling_default_params;)/n_xgboost_default_params with metrics: [-0.806]\n",
      "Chain (/n_scaling_default_params;)/n_xgboost_default_params with metrics: [-0.806]\n",
      "Chain (/n_scaling_default_params;)/n_xgboost_default_params with metrics: [-0.806]\n",
      "Chain (/n_scaling_default_params;)/n_xgboost_default_params with metrics: [-0.806]\n",
      "Chain (/n_scaling_default_params;)/n_xgboost_default_params with metrics: [-0.806]\n",
      "Chain (/n_scaling_default_params;)/n_xgboost_default_params with metrics: [-0.806]\n",
      "Chain (/n_scaling_default_params;)/n_xgboost_default_params with metrics: [-0.806]\n",
      "Chain (/n_scaling_default_params;)/n_xgboost_default_params with metrics: [-0.806]\n",
      "Chain (/n_scaling_default_params;)/n_xgboost_default_params with metrics: [-0.806]\n",
      "Chain (/n_scaling_default_params;)/n_xgboost_default_params with metrics: [-0.806]\n",
      "Best metric is -0.806\n",
      "Generation num: 0\n",
      "max_depth: 2, no improvements: 0\n",
      "Chain ((/n_rfe_lin_class_default_params;)/n_xgboost_default_params;)/n_xgboost_default_params with metrics: [-0.762]\n",
      "Chain (/n_scaling_default_params;)/n_xgboost_default_params with metrics: [-0.806]\n",
      "Chain (/n_scaling_default_params;)/n_bernb_default_params with metrics: [-0.779]\n",
      "Chain ((/n_one_hot_encoding_default_params;)/n_xgboost_default_params;)/n_xgboost_default_params with metrics: [-0.783]\n",
      "Chain ((/n_poly_features_default_params;)/n_xgboost_default_params;)/n_xgboost_default_params with metrics: [-0.777]\n",
      "Chain (/n_scaling_default_params;)/n_rf_default_params with metrics: [-0.821]\n",
      "Chain (/n_lda_default_params;)/n_bernb_default_params with metrics: [-0.5]\n",
      "Chain (/n_simple_imputation_default_params;)/n_bernb_default_params with metrics: [-0.786]\n",
      "Chain (/n_poly_features_default_params;)/n_knn_default_params with metrics: [-0.541]\n",
      "Chain ((/n_scaling_default_params;)/n_rfe_lin_class_default_params;)/n_qda_default_params with metrics: [-0.78]\n",
      "Chain (/n_scaling_default_params;)/n_xgboost_default_params with metrics: [-0.806]\n",
      "Chain (/n_pca_default_params;)/n_xgboost_default_params with metrics: [-0.801]\n",
      "Chain ((/n_scaling_default_params;)/n_knn_default_params;)/n_xgboost_default_params with metrics: [-0.641]\n",
      "Chain (/n_dt_default_params;)/n_xgboost_default_params with metrics: [-0.602]\n",
      "Chain (/n_lda_default_params;)/n_xgboost_default_params with metrics: [-0.698]\n",
      "Chain ((/n_scaling_default_params;)/n_xgboost_default_params;)/n_bernb_default_params with metrics: [-0.5]\n",
      "Chain (/n_pca_default_params;)/n_xgboost_default_params with metrics: [-0.801]\n",
      "Chain (/n_scaling_default_params;)/n_xgboost_default_params with metrics: [-0.806]\n",
      "Chain (/n_bernb_default_params;)/n_xgboost_default_params with metrics: [-0.791]\n",
      "Chain (/n_normalization_default_params;)/n_xgboost_default_params with metrics: [-0.805]\n",
      "spent time: 0.5 min\n",
      "Best metric is -0.821\n",
      "Generation num: 1\n",
      "max_depth: 2, no improvements: 0\n",
      "Chain ((/n_scaling_default_params;)/n_xgboost_default_params;)/n_logit_default_params with metrics: [-0.806]\n",
      "Chain (/n_kernel_pca_default_params;)/n_rf_default_params with metrics: [-0.808]\n",
      "spent time: 5.3 min\n",
      "Best metric is -0.821\n",
      "Result:\n",
      "Best metric is -0.821\n",
      "Composition time: 5.344 min\n",
      "Algorithm was terminated due to processing time limit\n",
      "GP composition finished\n",
      "Hyperparameters tuning started\n",
      "Default loss function was set\n",
      "Start tuning of primary nodes\n",
      "Hyperparameters optimization start\n",
      "Fit chain from scratch\n",
      "  0%|          | 0/20 [00:00<?, ?trial/s, best loss=?]Fit chain from scratch\n",
      "  5%|▌         | 1/20 [00:03<01:13,  3.85s/trial, best loss: -0.8368207617648903]Fit chain from scratch\n",
      " 10%|█         | 2/20 [00:07<01:08,  3.79s/trial, best loss: -0.8381666718030518]Fit chain from scratch\n",
      " 15%|█▌        | 3/20 [00:11<01:07,  3.98s/trial, best loss: -0.8381666718030518]Fit chain from scratch\n",
      " 20%|██        | 4/20 [00:14<00:57,  3.60s/trial, best loss: -0.8381666718030518]Fit chain from scratch\n",
      " 25%|██▌       | 5/20 [00:19<00:58,  3.87s/trial, best loss: -0.8381666718030518]Fit chain from scratch\n",
      " 30%|███       | 6/20 [00:26<01:08,  4.92s/trial, best loss: -0.8381666718030518]Fit chain from scratch\n",
      " 35%|███▌      | 7/20 [00:27<00:50,  3.89s/trial, best loss: -0.8381666718030518]Fit chain from scratch\n",
      " 40%|████      | 8/20 [00:34<00:56,  4.71s/trial, best loss: -0.8381666718030518]Fit chain from scratch\n",
      " 45%|████▌     | 9/20 [00:41<00:58,  5.36s/trial, best loss: -0.8381666718030518]Fit chain from scratch\n",
      " 50%|█████     | 10/20 [00:43<00:43,  4.38s/trial, best loss: -0.8381666718030518]Fit chain from scratch\n",
      " 55%|█████▌    | 11/20 [00:50<00:45,  5.08s/trial, best loss: -0.8381666718030518]Fit chain from scratch\n",
      " 60%|██████    | 12/20 [00:52<00:33,  4.21s/trial, best loss: -0.8381666718030518]Fit chain from scratch\n",
      " 65%|██████▌   | 13/20 [00:56<00:29,  4.28s/trial, best loss: -0.8381666718030518]Fit chain from scratch\n",
      " 70%|███████   | 14/20 [00:59<00:23,  3.87s/trial, best loss: -0.8381666718030518]Fit chain from scratch\n",
      " 75%|███████▌  | 15/20 [01:03<00:19,  3.86s/trial, best loss: -0.8381666718030518]Fit chain from scratch\n",
      " 80%|████████  | 16/20 [01:06<00:14,  3.54s/trial, best loss: -0.8398696491707216]Fit chain from scratch\n",
      " 85%|████████▌ | 17/20 [01:09<00:10,  3.40s/trial, best loss: -0.8398696491707216]Fit chain from scratch\n",
      " 90%|█████████ | 18/20 [01:12<00:06,  3.23s/trial, best loss: -0.8398696491707216]Fit chain from scratch\n",
      " 95%|█████████▌| 19/20 [01:14<00:02,  2.87s/trial, best loss: -0.8436565819942422]Fit chain from scratch\n",
      "100%|██████████| 20/20 [01:16<00:00,  3.81s/trial, best loss: -0.8436565819942422]\n",
      "Fit chain from scratch\n",
      "Hyperparameters optimization finished\n",
      "Return tuned chain due to the fact that obtained metric 0.839 equal or bigger than initial (- 5% deviation) 0.779\n",
      "Tuning was finished\n",
      "Model composition finished\n",
      "Fit chain from scratch\n"
     ]
    }
   ],
   "source": [
    "#run of the AutoML-based model generation\n",
    "pipeline = auto_model.fit(features=train_data_path, target='target')"
   ]
  },
  {
   "cell_type": "code",
   "execution_count": 5,
   "metadata": {
    "pycharm": {
     "is_executing": true,
     "name": "#%%\n"
    }
   },
   "outputs": [
    {
     "name": "stdout",
     "output_type": "stream",
     "text": [
      "{'roc_auc': 0.855, 'f1': 0.16883116883116883}\n"
     ]
    }
   ],
   "source": [
    "prediction = auto_model.predict_proba(features=test_data_path)\n",
    "auto_metrics = auto_model.get_metrics()\n",
    "print(auto_metrics)"
   ]
  },
  {
   "cell_type": "code",
   "execution_count": 6,
   "metadata": {
    "pycharm": {
     "is_executing": true,
     "name": "#%%\n"
    }
   },
   "outputs": [
    {
     "name": "stdout",
     "output_type": "stream",
     "text": [
      "Baseline 0.823\n",
      "AutoML solution 0.855\n"
     ]
    }
   ],
   "source": [
    "#comparison with the manual pipeline\n",
    "\n",
    "print('Baseline', round(baseline_metrics['roc_auc'], 3))\n",
    "print('AutoML solution', round(auto_metrics['roc_auc'], 3))"
   ]
  },
  {
   "cell_type": "code",
   "execution_count": null,
   "metadata": {},
   "outputs": [],
   "source": []
  }
 ],
 "metadata": {
  "kernelspec": {
   "display_name": "Python 3",
   "language": "python",
   "name": "python3"
  },
  "language_info": {
   "codemirror_mode": {
    "name": "ipython",
    "version": 3
   },
   "file_extension": ".py",
   "mimetype": "text/x-python",
   "name": "python",
   "nbconvert_exporter": "python",
   "pygments_lexer": "ipython3",
   "version": "3.7.0"
  },
  "pycharm": {
   "stem_cell": {
    "cell_type": "raw",
    "metadata": {
     "collapsed": false
    },
    "source": []
   }
  }
 },
 "nbformat": 4,
 "nbformat_minor": 1
}